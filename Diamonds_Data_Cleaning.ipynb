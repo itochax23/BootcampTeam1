{
 "cells": [
  {
   "cell_type": "code",
   "execution_count": 1,
   "id": "7dc29bc8",
   "metadata": {},
   "outputs": [],
   "source": [
    "# Add our dependencies\n",
    "import csv\n",
    "import os\n",
    "import pandas as pd"
   ]
  },
  {
   "cell_type": "code",
   "execution_count": 2,
   "id": "ea870e61",
   "metadata": {},
   "outputs": [
    {
     "data": {
      "text/html": [
       "<div>\n",
       "<style scoped>\n",
       "    .dataframe tbody tr th:only-of-type {\n",
       "        vertical-align: middle;\n",
       "    }\n",
       "\n",
       "    .dataframe tbody tr th {\n",
       "        vertical-align: top;\n",
       "    }\n",
       "\n",
       "    .dataframe thead th {\n",
       "        text-align: right;\n",
       "    }\n",
       "</style>\n",
       "<table border=\"1\" class=\"dataframe\">\n",
       "  <thead>\n",
       "    <tr style=\"text-align: right;\">\n",
       "      <th></th>\n",
       "      <th>id</th>\n",
       "      <th>url</th>\n",
       "      <th>shape</th>\n",
       "      <th>price</th>\n",
       "      <th>carat</th>\n",
       "      <th>cut</th>\n",
       "      <th>color</th>\n",
       "      <th>clarity</th>\n",
       "      <th>report</th>\n",
       "      <th>type</th>\n",
       "      <th>date_fetched</th>\n",
       "    </tr>\n",
       "  </thead>\n",
       "  <tbody>\n",
       "    <tr>\n",
       "      <th>0</th>\n",
       "      <td>10086429</td>\n",
       "      <td>https://www.brilliantearth.com//loose-diamonds...</td>\n",
       "      <td>Round</td>\n",
       "      <td>400</td>\n",
       "      <td>0.30</td>\n",
       "      <td>Very Good</td>\n",
       "      <td>J</td>\n",
       "      <td>SI2</td>\n",
       "      <td>GIA</td>\n",
       "      <td>natural</td>\n",
       "      <td>2020-11-29 12-26 PM</td>\n",
       "    </tr>\n",
       "    <tr>\n",
       "      <th>1</th>\n",
       "      <td>10016334</td>\n",
       "      <td>https://www.brilliantearth.com//loose-diamonds...</td>\n",
       "      <td>Emerald</td>\n",
       "      <td>400</td>\n",
       "      <td>0.31</td>\n",
       "      <td>Ideal</td>\n",
       "      <td>I</td>\n",
       "      <td>SI1</td>\n",
       "      <td>GIA</td>\n",
       "      <td>natural</td>\n",
       "      <td>2020-11-29 12-26 PM</td>\n",
       "    </tr>\n",
       "    <tr>\n",
       "      <th>2</th>\n",
       "      <td>9947216</td>\n",
       "      <td>https://www.brilliantearth.com//loose-diamonds...</td>\n",
       "      <td>Emerald</td>\n",
       "      <td>400</td>\n",
       "      <td>0.30</td>\n",
       "      <td>Ideal</td>\n",
       "      <td>I</td>\n",
       "      <td>VS2</td>\n",
       "      <td>GIA</td>\n",
       "      <td>natural</td>\n",
       "      <td>2020-11-29 12-26 PM</td>\n",
       "    </tr>\n",
       "    <tr>\n",
       "      <th>3</th>\n",
       "      <td>10083437</td>\n",
       "      <td>https://www.brilliantearth.com//loose-diamonds...</td>\n",
       "      <td>Round</td>\n",
       "      <td>400</td>\n",
       "      <td>0.30</td>\n",
       "      <td>Ideal</td>\n",
       "      <td>I</td>\n",
       "      <td>SI2</td>\n",
       "      <td>GIA</td>\n",
       "      <td>natural</td>\n",
       "      <td>2020-11-29 12-26 PM</td>\n",
       "    </tr>\n",
       "    <tr>\n",
       "      <th>4</th>\n",
       "      <td>9946136</td>\n",
       "      <td>https://www.brilliantearth.com//loose-diamonds...</td>\n",
       "      <td>Emerald</td>\n",
       "      <td>400</td>\n",
       "      <td>0.30</td>\n",
       "      <td>Ideal</td>\n",
       "      <td>I</td>\n",
       "      <td>SI1</td>\n",
       "      <td>GIA</td>\n",
       "      <td>natural</td>\n",
       "      <td>2020-11-29 12-26 PM</td>\n",
       "    </tr>\n",
       "  </tbody>\n",
       "</table>\n",
       "</div>"
      ],
      "text/plain": [
       "         id                                                url    shape  \\\n",
       "0  10086429  https://www.brilliantearth.com//loose-diamonds...    Round   \n",
       "1  10016334  https://www.brilliantearth.com//loose-diamonds...  Emerald   \n",
       "2   9947216  https://www.brilliantearth.com//loose-diamonds...  Emerald   \n",
       "3  10083437  https://www.brilliantearth.com//loose-diamonds...    Round   \n",
       "4   9946136  https://www.brilliantearth.com//loose-diamonds...  Emerald   \n",
       "\n",
       "   price  carat        cut color clarity report     type         date_fetched  \n",
       "0    400   0.30  Very Good     J     SI2    GIA  natural  2020-11-29 12-26 PM  \n",
       "1    400   0.31      Ideal     I     SI1    GIA  natural  2020-11-29 12-26 PM  \n",
       "2    400   0.30      Ideal     I     VS2    GIA  natural  2020-11-29 12-26 PM  \n",
       "3    400   0.30      Ideal     I     SI2    GIA  natural  2020-11-29 12-26 PM  \n",
       "4    400   0.30      Ideal     I     SI1    GIA  natural  2020-11-29 12-26 PM  "
      ]
     },
     "execution_count": 2,
     "metadata": {},
     "output_type": "execute_result"
    }
   ],
   "source": [
    "# Read in CSV file and print as a DataFrame\n",
    "diamonds_df_original = pd.read_csv('data/diamonds_dataset.csv')\n",
    "diamonds_df_original.head()"
   ]
  },
  {
   "cell_type": "code",
   "execution_count": 3,
   "id": "8dee3397",
   "metadata": {},
   "outputs": [],
   "source": [
    "# Drop 'data_fetched' and 'url' columns\n",
    "diamonds_df = diamonds_df_original\n",
    "diamonds_df.drop(columns=[\"date_fetched\", \"url\"], inplace=True)"
   ]
  },
  {
   "cell_type": "code",
   "execution_count": 4,
   "id": "f5adb542",
   "metadata": {},
   "outputs": [
    {
     "data": {
      "text/html": [
       "<div>\n",
       "<style scoped>\n",
       "    .dataframe tbody tr th:only-of-type {\n",
       "        vertical-align: middle;\n",
       "    }\n",
       "\n",
       "    .dataframe tbody tr th {\n",
       "        vertical-align: top;\n",
       "    }\n",
       "\n",
       "    .dataframe thead th {\n",
       "        text-align: right;\n",
       "    }\n",
       "</style>\n",
       "<table border=\"1\" class=\"dataframe\">\n",
       "  <thead>\n",
       "    <tr style=\"text-align: right;\">\n",
       "      <th></th>\n",
       "      <th>shape</th>\n",
       "      <th>price</th>\n",
       "      <th>carat</th>\n",
       "      <th>cut</th>\n",
       "      <th>color</th>\n",
       "      <th>clarity</th>\n",
       "      <th>report</th>\n",
       "      <th>type</th>\n",
       "    </tr>\n",
       "    <tr>\n",
       "      <th>id</th>\n",
       "      <th></th>\n",
       "      <th></th>\n",
       "      <th></th>\n",
       "      <th></th>\n",
       "      <th></th>\n",
       "      <th></th>\n",
       "      <th></th>\n",
       "      <th></th>\n",
       "    </tr>\n",
       "  </thead>\n",
       "  <tbody>\n",
       "    <tr>\n",
       "      <th>10086429</th>\n",
       "      <td>Round</td>\n",
       "      <td>400</td>\n",
       "      <td>0.30</td>\n",
       "      <td>Very Good</td>\n",
       "      <td>J</td>\n",
       "      <td>SI2</td>\n",
       "      <td>GIA</td>\n",
       "      <td>natural</td>\n",
       "    </tr>\n",
       "    <tr>\n",
       "      <th>10016334</th>\n",
       "      <td>Emerald</td>\n",
       "      <td>400</td>\n",
       "      <td>0.31</td>\n",
       "      <td>Ideal</td>\n",
       "      <td>I</td>\n",
       "      <td>SI1</td>\n",
       "      <td>GIA</td>\n",
       "      <td>natural</td>\n",
       "    </tr>\n",
       "    <tr>\n",
       "      <th>9947216</th>\n",
       "      <td>Emerald</td>\n",
       "      <td>400</td>\n",
       "      <td>0.30</td>\n",
       "      <td>Ideal</td>\n",
       "      <td>I</td>\n",
       "      <td>VS2</td>\n",
       "      <td>GIA</td>\n",
       "      <td>natural</td>\n",
       "    </tr>\n",
       "    <tr>\n",
       "      <th>10083437</th>\n",
       "      <td>Round</td>\n",
       "      <td>400</td>\n",
       "      <td>0.30</td>\n",
       "      <td>Ideal</td>\n",
       "      <td>I</td>\n",
       "      <td>SI2</td>\n",
       "      <td>GIA</td>\n",
       "      <td>natural</td>\n",
       "    </tr>\n",
       "    <tr>\n",
       "      <th>9946136</th>\n",
       "      <td>Emerald</td>\n",
       "      <td>400</td>\n",
       "      <td>0.30</td>\n",
       "      <td>Ideal</td>\n",
       "      <td>I</td>\n",
       "      <td>SI1</td>\n",
       "      <td>GIA</td>\n",
       "      <td>natural</td>\n",
       "    </tr>\n",
       "  </tbody>\n",
       "</table>\n",
       "</div>"
      ],
      "text/plain": [
       "            shape  price  carat        cut color clarity report     type\n",
       "id                                                                      \n",
       "10086429    Round    400   0.30  Very Good     J     SI2    GIA  natural\n",
       "10016334  Emerald    400   0.31      Ideal     I     SI1    GIA  natural\n",
       "9947216   Emerald    400   0.30      Ideal     I     VS2    GIA  natural\n",
       "10083437    Round    400   0.30      Ideal     I     SI2    GIA  natural\n",
       "9946136   Emerald    400   0.30      Ideal     I     SI1    GIA  natural"
      ]
     },
     "execution_count": 4,
     "metadata": {},
     "output_type": "execute_result"
    }
   ],
   "source": [
    "# Make 'id' the index\n",
    "diamonds_df.set_index('id', inplace = True)\n",
    "diamonds_df.head()"
   ]
  },
  {
   "cell_type": "code",
   "execution_count": 5,
   "id": "a0dc97de",
   "metadata": {},
   "outputs": [],
   "source": [
    "# Export to CSV for visuals\n",
    "diamonds_df.to_csv(\"data/clean_data_visuals.csv\")"
   ]
  },
  {
   "cell_type": "code",
   "execution_count": 6,
   "id": "a1fb87c3",
   "metadata": {},
   "outputs": [
    {
     "data": {
      "text/plain": [
       "shape        10\n",
       "price      3144\n",
       "carat       522\n",
       "cut           5\n",
       "color         7\n",
       "clarity       8\n",
       "report        4\n",
       "type          2\n",
       "dtype: int64"
      ]
     },
     "execution_count": 6,
     "metadata": {},
     "output_type": "execute_result"
    }
   ],
   "source": [
    "# Find number of unique values for each column\n",
    "diamonds_df.nunique()"
   ]
  },
  {
   "cell_type": "code",
   "execution_count": 7,
   "id": "3b0b320e",
   "metadata": {},
   "outputs": [
    {
     "data": {
      "text/plain": [
       "array(['Round', 'Emerald', 'Marquise', 'Princess', 'Pear', 'Heart',\n",
       "       'Oval', 'Cushion', 'Asscher', 'Radiant'], dtype=object)"
      ]
     },
     "execution_count": 7,
     "metadata": {},
     "output_type": "execute_result"
    }
   ],
   "source": [
    "# Categories in 'shape' column\n",
    "diamonds_df[\"shape\"].unique()"
   ]
  },
  {
   "cell_type": "code",
   "execution_count": 8,
   "id": "12cd3dcf",
   "metadata": {},
   "outputs": [
    {
     "data": {
      "text/plain": [
       "array(['Very Good', 'Ideal', 'Super Ideal', 'Good', 'Fair'], dtype=object)"
      ]
     },
     "execution_count": 8,
     "metadata": {},
     "output_type": "execute_result"
    }
   ],
   "source": [
    "# Categories in 'cut' column\n",
    "diamonds_df[\"cut\"].unique()"
   ]
  },
  {
   "cell_type": "code",
   "execution_count": 9,
   "id": "680e8d45",
   "metadata": {},
   "outputs": [
    {
     "data": {
      "text/plain": [
       "array(['J', 'I', 'E', 'F', 'G', 'H', 'D'], dtype=object)"
      ]
     },
     "execution_count": 9,
     "metadata": {},
     "output_type": "execute_result"
    }
   ],
   "source": [
    "# Categories in 'color' column\n",
    "diamonds_df[\"color\"].unique()"
   ]
  },
  {
   "cell_type": "code",
   "execution_count": 10,
   "id": "17f5eeec",
   "metadata": {},
   "outputs": [
    {
     "data": {
      "text/plain": [
       "array(['SI2', 'SI1', 'VS2', 'VVS1', 'VS1', 'VVS2', 'IF', 'FL'],\n",
       "      dtype=object)"
      ]
     },
     "execution_count": 10,
     "metadata": {},
     "output_type": "execute_result"
    }
   ],
   "source": [
    "# Categories in 'clarity' column\n",
    "diamonds_df[\"clarity\"].unique()"
   ]
  },
  {
   "cell_type": "code",
   "execution_count": 11,
   "id": "e5c69af3",
   "metadata": {},
   "outputs": [
    {
     "data": {
      "text/plain": [
       "array(['GIA', 'HRD', 'IGI', 'GCAL'], dtype=object)"
      ]
     },
     "execution_count": 11,
     "metadata": {},
     "output_type": "execute_result"
    }
   ],
   "source": [
    "# Categories in 'report' column\n",
    "diamonds_df[\"report\"].unique()"
   ]
  },
  {
   "cell_type": "code",
   "execution_count": 12,
   "id": "10ceccc2",
   "metadata": {},
   "outputs": [
    {
     "data": {
      "text/plain": [
       "array(['natural', 'lab'], dtype=object)"
      ]
     },
     "execution_count": 12,
     "metadata": {},
     "output_type": "execute_result"
    }
   ],
   "source": [
    "# Categories in 'type' column\n",
    "diamonds_df[\"type\"].unique()"
   ]
  },
  {
   "cell_type": "code",
   "execution_count": 13,
   "id": "920b050e",
   "metadata": {},
   "outputs": [],
   "source": [
    "# New DataFrame name\n",
    "diamonds_cleaning_df = diamonds_df"
   ]
  },
  {
   "cell_type": "code",
   "execution_count": 14,
   "id": "eff82ecc",
   "metadata": {},
   "outputs": [],
   "source": [
    "# Convert categories into numerical values for each categorical column (except 'type' as it will be our predictor)\n",
    "cleanup_nums = {\"shape\":{\"Asscher\": 1, \"Cushion\": 2, \"Emerald\": 3, \"Heart\":4, \"Marquise\":5, \"Oval\":6, \n",
    "                         \"Pear\":7, \"Princess\":8, \"Radiant\":9, \"Round\":10},\n",
    "                \"cut\": {\"Fair\": 1, \"Good\": 2, \"Very Good\": 3, \"Ideal\": 4,\n",
    "                         \"Super Ideal\": 5},\n",
    "               \"color\":{\"J\": 1, \"I\": 2, \"H\": 3, \"G\": 4, \"F\": 5, \"E\": 6, \"D\": 7},\n",
    "               \"clarity\":{\"SI2\": 1, \"SI1\": 2, \"VS2\": 3, \"VS1\": 4, \"VVS2\": 5, \"VVS1\": 6, \"IF\": 7, \"FL\": 8},\n",
    "               \"report\":{\"GIA\": 1, \"HRD\": 2, \"IGI\": 3, \"GCAL\": 4},\n",
    "               \"type\": {\"lab\": 1, \"natural\": 2}}"
   ]
  },
  {
   "cell_type": "code",
   "execution_count": 15,
   "id": "a4f366d5",
   "metadata": {},
   "outputs": [
    {
     "data": {
      "text/html": [
       "<div>\n",
       "<style scoped>\n",
       "    .dataframe tbody tr th:only-of-type {\n",
       "        vertical-align: middle;\n",
       "    }\n",
       "\n",
       "    .dataframe tbody tr th {\n",
       "        vertical-align: top;\n",
       "    }\n",
       "\n",
       "    .dataframe thead th {\n",
       "        text-align: right;\n",
       "    }\n",
       "</style>\n",
       "<table border=\"1\" class=\"dataframe\">\n",
       "  <thead>\n",
       "    <tr style=\"text-align: right;\">\n",
       "      <th></th>\n",
       "      <th>shape</th>\n",
       "      <th>price</th>\n",
       "      <th>carat</th>\n",
       "      <th>cut</th>\n",
       "      <th>color</th>\n",
       "      <th>clarity</th>\n",
       "      <th>report</th>\n",
       "      <th>type</th>\n",
       "    </tr>\n",
       "    <tr>\n",
       "      <th>id</th>\n",
       "      <th></th>\n",
       "      <th></th>\n",
       "      <th></th>\n",
       "      <th></th>\n",
       "      <th></th>\n",
       "      <th></th>\n",
       "      <th></th>\n",
       "      <th></th>\n",
       "    </tr>\n",
       "  </thead>\n",
       "  <tbody>\n",
       "    <tr>\n",
       "      <th>10086429</th>\n",
       "      <td>10</td>\n",
       "      <td>400</td>\n",
       "      <td>0.30</td>\n",
       "      <td>3</td>\n",
       "      <td>1</td>\n",
       "      <td>1</td>\n",
       "      <td>1</td>\n",
       "      <td>2</td>\n",
       "    </tr>\n",
       "    <tr>\n",
       "      <th>10016334</th>\n",
       "      <td>3</td>\n",
       "      <td>400</td>\n",
       "      <td>0.31</td>\n",
       "      <td>4</td>\n",
       "      <td>2</td>\n",
       "      <td>2</td>\n",
       "      <td>1</td>\n",
       "      <td>2</td>\n",
       "    </tr>\n",
       "    <tr>\n",
       "      <th>9947216</th>\n",
       "      <td>3</td>\n",
       "      <td>400</td>\n",
       "      <td>0.30</td>\n",
       "      <td>4</td>\n",
       "      <td>2</td>\n",
       "      <td>3</td>\n",
       "      <td>1</td>\n",
       "      <td>2</td>\n",
       "    </tr>\n",
       "    <tr>\n",
       "      <th>10083437</th>\n",
       "      <td>10</td>\n",
       "      <td>400</td>\n",
       "      <td>0.30</td>\n",
       "      <td>4</td>\n",
       "      <td>2</td>\n",
       "      <td>1</td>\n",
       "      <td>1</td>\n",
       "      <td>2</td>\n",
       "    </tr>\n",
       "    <tr>\n",
       "      <th>9946136</th>\n",
       "      <td>3</td>\n",
       "      <td>400</td>\n",
       "      <td>0.30</td>\n",
       "      <td>4</td>\n",
       "      <td>2</td>\n",
       "      <td>2</td>\n",
       "      <td>1</td>\n",
       "      <td>2</td>\n",
       "    </tr>\n",
       "  </tbody>\n",
       "</table>\n",
       "</div>"
      ],
      "text/plain": [
       "          shape  price  carat  cut  color  clarity  report  type\n",
       "id                                                              \n",
       "10086429     10    400   0.30    3      1        1       1     2\n",
       "10016334      3    400   0.31    4      2        2       1     2\n",
       "9947216       3    400   0.30    4      2        3       1     2\n",
       "10083437     10    400   0.30    4      2        1       1     2\n",
       "9946136       3    400   0.30    4      2        2       1     2"
      ]
     },
     "execution_count": 15,
     "metadata": {},
     "output_type": "execute_result"
    }
   ],
   "source": [
    "# Replace categorical columns with new numerical values\n",
    "diamonds_clean_df = diamonds_cleaning_df.replace(cleanup_nums)\n",
    "diamonds_clean_df.head()"
   ]
  },
  {
   "cell_type": "code",
   "execution_count": 16,
   "id": "90aca1c1",
   "metadata": {},
   "outputs": [
    {
     "data": {
      "text/plain": [
       "shape        int64\n",
       "price        int64\n",
       "carat      float64\n",
       "cut          int64\n",
       "color        int64\n",
       "clarity      int64\n",
       "report       int64\n",
       "type         int64\n",
       "dtype: object"
      ]
     },
     "execution_count": 16,
     "metadata": {},
     "output_type": "execute_result"
    }
   ],
   "source": [
    "# Check the data types\n",
    "diamonds_clean_df.dtypes"
   ]
  },
  {
   "cell_type": "code",
   "execution_count": 17,
   "id": "51ae4b65",
   "metadata": {},
   "outputs": [],
   "source": [
    "# Export to CSV for creating Multi Linear Model\n",
    "diamonds_clean_df.to_csv(\"data/clean_data.csv\")"
   ]
  },
  {
   "cell_type": "code",
   "execution_count": 18,
   "id": "39f6b151",
   "metadata": {},
   "outputs": [],
   "source": [
    "# Convert 'type' back to \"natural\" and \"lab\" as it will be our predictor for our Logistic Regression Model.\n",
    "cleanup_type = {\"type\": {1: \"lab\", 2: \"natural\"}}"
   ]
  },
  {
   "cell_type": "code",
   "execution_count": 19,
   "id": "9a474c9b",
   "metadata": {},
   "outputs": [
    {
     "data": {
      "text/html": [
       "<div>\n",
       "<style scoped>\n",
       "    .dataframe tbody tr th:only-of-type {\n",
       "        vertical-align: middle;\n",
       "    }\n",
       "\n",
       "    .dataframe tbody tr th {\n",
       "        vertical-align: top;\n",
       "    }\n",
       "\n",
       "    .dataframe thead th {\n",
       "        text-align: right;\n",
       "    }\n",
       "</style>\n",
       "<table border=\"1\" class=\"dataframe\">\n",
       "  <thead>\n",
       "    <tr style=\"text-align: right;\">\n",
       "      <th></th>\n",
       "      <th>shape</th>\n",
       "      <th>price</th>\n",
       "      <th>carat</th>\n",
       "      <th>cut</th>\n",
       "      <th>color</th>\n",
       "      <th>clarity</th>\n",
       "      <th>report</th>\n",
       "      <th>type</th>\n",
       "    </tr>\n",
       "    <tr>\n",
       "      <th>id</th>\n",
       "      <th></th>\n",
       "      <th></th>\n",
       "      <th></th>\n",
       "      <th></th>\n",
       "      <th></th>\n",
       "      <th></th>\n",
       "      <th></th>\n",
       "      <th></th>\n",
       "    </tr>\n",
       "  </thead>\n",
       "  <tbody>\n",
       "    <tr>\n",
       "      <th>10086429</th>\n",
       "      <td>10</td>\n",
       "      <td>400</td>\n",
       "      <td>0.30</td>\n",
       "      <td>3</td>\n",
       "      <td>1</td>\n",
       "      <td>1</td>\n",
       "      <td>1</td>\n",
       "      <td>natural</td>\n",
       "    </tr>\n",
       "    <tr>\n",
       "      <th>10016334</th>\n",
       "      <td>3</td>\n",
       "      <td>400</td>\n",
       "      <td>0.31</td>\n",
       "      <td>4</td>\n",
       "      <td>2</td>\n",
       "      <td>2</td>\n",
       "      <td>1</td>\n",
       "      <td>natural</td>\n",
       "    </tr>\n",
       "    <tr>\n",
       "      <th>9947216</th>\n",
       "      <td>3</td>\n",
       "      <td>400</td>\n",
       "      <td>0.30</td>\n",
       "      <td>4</td>\n",
       "      <td>2</td>\n",
       "      <td>3</td>\n",
       "      <td>1</td>\n",
       "      <td>natural</td>\n",
       "    </tr>\n",
       "    <tr>\n",
       "      <th>10083437</th>\n",
       "      <td>10</td>\n",
       "      <td>400</td>\n",
       "      <td>0.30</td>\n",
       "      <td>4</td>\n",
       "      <td>2</td>\n",
       "      <td>1</td>\n",
       "      <td>1</td>\n",
       "      <td>natural</td>\n",
       "    </tr>\n",
       "    <tr>\n",
       "      <th>9946136</th>\n",
       "      <td>3</td>\n",
       "      <td>400</td>\n",
       "      <td>0.30</td>\n",
       "      <td>4</td>\n",
       "      <td>2</td>\n",
       "      <td>2</td>\n",
       "      <td>1</td>\n",
       "      <td>natural</td>\n",
       "    </tr>\n",
       "  </tbody>\n",
       "</table>\n",
       "</div>"
      ],
      "text/plain": [
       "          shape  price  carat  cut  color  clarity  report     type\n",
       "id                                                                 \n",
       "10086429     10    400   0.30    3      1        1       1  natural\n",
       "10016334      3    400   0.31    4      2        2       1  natural\n",
       "9947216       3    400   0.30    4      2        3       1  natural\n",
       "10083437     10    400   0.30    4      2        1       1  natural\n",
       "9946136       3    400   0.30    4      2        2       1  natural"
      ]
     },
     "execution_count": 19,
     "metadata": {},
     "output_type": "execute_result"
    }
   ],
   "source": [
    "# Replace 'type' column back to \"natural\" and \"lab\"\n",
    "diamonds_new_clean_df = diamonds_clean_df.replace(cleanup_type)\n",
    "diamonds_new_clean_df.head()"
   ]
  },
  {
   "cell_type": "code",
   "execution_count": 20,
   "id": "612fefaa",
   "metadata": {},
   "outputs": [
    {
     "data": {
      "text/plain": [
       "shape        int64\n",
       "price        int64\n",
       "carat      float64\n",
       "cut          int64\n",
       "color        int64\n",
       "clarity      int64\n",
       "report       int64\n",
       "type        object\n",
       "dtype: object"
      ]
     },
     "execution_count": 20,
     "metadata": {},
     "output_type": "execute_result"
    }
   ],
   "source": [
    "# Check the data types\n",
    "diamonds_new_clean_df.dtypes"
   ]
  },
  {
   "cell_type": "code",
   "execution_count": 21,
   "id": "467beee1",
   "metadata": {},
   "outputs": [],
   "source": [
    "# Export to CSV for creating Logistic Model\n",
    "diamonds_new_clean_df.to_csv(\"data/new_clean_data.csv\")"
   ]
  },
  {
   "cell_type": "code",
   "execution_count": null,
   "id": "1acdced4",
   "metadata": {},
   "outputs": [],
   "source": []
  }
 ],
 "metadata": {
  "kernelspec": {
   "display_name": "PythonData",
   "language": "python",
   "name": "pythondata"
  },
  "language_info": {
   "codemirror_mode": {
    "name": "ipython",
    "version": 3
   },
   "file_extension": ".py",
   "mimetype": "text/x-python",
   "name": "python",
   "nbconvert_exporter": "python",
   "pygments_lexer": "ipython3",
   "version": "3.8.8"
  }
 },
 "nbformat": 4,
 "nbformat_minor": 5
}
